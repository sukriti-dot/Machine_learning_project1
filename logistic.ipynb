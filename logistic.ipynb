{
 "cells": [
  {
   "cell_type": "code",
   "execution_count": 27,
   "id": "e5747759-3c8c-4572-9c7d-71ee3b748efb",
   "metadata": {},
   "outputs": [],
   "source": [
    "import warnings\n",
    "warnings.filterwarnings(\"ignore\")\n",
    "import numpy as np\n",
    "import pandas as pd\n",
    "import matplotlib.pyplot as plt\n",
    "import seaborn as sns"
   ]
  },
  {
   "cell_type": "code",
   "execution_count": 61,
   "id": "7c6c91ef-20a1-47f2-ad44-8a600c6956e6",
   "metadata": {},
   "outputs": [
    {
     "name": "stdout",
     "output_type": "stream",
     "text": [
      "Original DataFrame:\n",
      "   Unnamed: 0.1  Unnamed: 0   brand                                  name  \\\n",
      "0             0           0      HP      Victus 15-fb0157AX Gaming Laptop   \n",
      "1             1           1      HP                   15s-fq5007TU Laptop   \n",
      "2             2           2    Acer                  One 14 Z8-415 Laptop   \n",
      "3             3           3  Lenovo  Yoga Slim 6 14IAP8 82WU0095IN Laptop   \n",
      "4             4           4   Apple       MacBook Air 2020 MGND3HN Laptop   \n",
      "\n",
      "   price  spec_rating                      processor  \\\n",
      "0  49900    73.000000      5th Gen AMD Ryzen 5 5600H   \n",
      "1  39900    60.000000   12th Gen Intel Core i3 1215U   \n",
      "2  26990    69.323529  11th Gen Intel Core i3 1115G4   \n",
      "3  59729    66.000000   12th Gen Intel Core i5 1240P   \n",
      "4  69990    69.323529                       Apple M1   \n",
      "\n",
      "                              CPU   Ram Ram_type    ROM ROM_type  \\\n",
      "0           Hexa Core, 12 Threads   8GB     DDR4  512GB      SSD   \n",
      "1  Hexa Core (2P + 4E), 8 Threads   8GB     DDR4  512GB      SSD   \n",
      "2            Dual Core, 4 Threads   8GB     DDR4  512GB      SSD   \n",
      "3  12 Cores (4P + 8E), 16 Threads  16GB   LPDDR5  512GB      SSD   \n",
      "4             Octa Core (4P + 4E)   8GB     DDR4  256GB      SSD   \n",
      "\n",
      "                            GPU  display_size  resolution_width  \\\n",
      "0       4GB AMD Radeon RX 6500M          15.6            1920.0   \n",
      "1            Intel UHD Graphics          15.6            1920.0   \n",
      "2        Intel Iris Xe Graphics          14.0            1920.0   \n",
      "3      Intel Integrated Iris Xe          14.0            2240.0   \n",
      "4  Apple M1 Integrated Graphics          13.3            2560.0   \n",
      "\n",
      "   resolution_height             OS  warranty  \n",
      "0             1080.0  Windows 11 OS         1  \n",
      "1             1080.0  Windows 11 OS         1  \n",
      "2             1080.0  Windows 11 OS         1  \n",
      "3             1400.0  Windows 11 OS         1  \n",
      "4             1600.0         Mac OS         1  \n",
      "<class 'pandas.core.frame.DataFrame'>\n",
      "RangeIndex: 893 entries, 0 to 892\n",
      "Data columns (total 18 columns):\n",
      " #   Column             Non-Null Count  Dtype  \n",
      "---  ------             --------------  -----  \n",
      " 0   Unnamed: 0.1       893 non-null    int64  \n",
      " 1   Unnamed: 0         893 non-null    int64  \n",
      " 2   brand              893 non-null    object \n",
      " 3   name               893 non-null    object \n",
      " 4   price              893 non-null    int64  \n",
      " 5   spec_rating        893 non-null    float64\n",
      " 6   processor          893 non-null    object \n",
      " 7   CPU                893 non-null    object \n",
      " 8   Ram                893 non-null    object \n",
      " 9   Ram_type           893 non-null    object \n",
      " 10  ROM                893 non-null    object \n",
      " 11  ROM_type           893 non-null    object \n",
      " 12  GPU                893 non-null    object \n",
      " 13  display_size       893 non-null    float64\n",
      " 14  resolution_width   893 non-null    float64\n",
      " 15  resolution_height  893 non-null    float64\n",
      " 16  OS                 893 non-null    object \n",
      " 17  warranty           893 non-null    int64  \n",
      "dtypes: float64(4), int64(4), object(10)\n",
      "memory usage: 125.7+ KB\n",
      "None\n"
     ]
    }
   ],
   "source": [
    "df=pd.read_csv(\"data.csv\")\n",
    "print(\"Original DataFrame:\")\n",
    "print(df.head())\n",
    "print(df.info())"
   ]
  },
  {
   "cell_type": "code",
   "execution_count": 43,
   "id": "37fc869c-da75-4224-8196-1f6cd0f4dfee",
   "metadata": {},
   "outputs": [
    {
     "name": "stdout",
     "output_type": "stream",
     "text": [
      "\n",
      "DataFrame after dropping the column:\n",
      "   Unnamed: 0.1   brand                                  name  price  \\\n",
      "0             0      HP      Victus 15-fb0157AX Gaming Laptop  49900   \n",
      "1             1      HP                   15s-fq5007TU Laptop  39900   \n",
      "2             2    Acer                  One 14 Z8-415 Laptop  26990   \n",
      "3             3  Lenovo  Yoga Slim 6 14IAP8 82WU0095IN Laptop  59729   \n",
      "4             4   Apple       MacBook Air 2020 MGND3HN Laptop  69990   \n",
      "\n",
      "   spec_rating                      processor                             CPU  \\\n",
      "0    73.000000      5th Gen AMD Ryzen 5 5600H           Hexa Core, 12 Threads   \n",
      "1    60.000000   12th Gen Intel Core i3 1215U  Hexa Core (2P + 4E), 8 Threads   \n",
      "2    69.323529  11th Gen Intel Core i3 1115G4            Dual Core, 4 Threads   \n",
      "3    66.000000   12th Gen Intel Core i5 1240P  12 Cores (4P + 8E), 16 Threads   \n",
      "4    69.323529                       Apple M1             Octa Core (4P + 4E)   \n",
      "\n",
      "    Ram Ram_type    ROM ROM_type                           GPU  display_size  \\\n",
      "0   8GB     DDR4  512GB      SSD       4GB AMD Radeon RX 6500M          15.6   \n",
      "1   8GB     DDR4  512GB      SSD            Intel UHD Graphics          15.6   \n",
      "2   8GB     DDR4  512GB      SSD        Intel Iris Xe Graphics          14.0   \n",
      "3  16GB   LPDDR5  512GB      SSD      Intel Integrated Iris Xe          14.0   \n",
      "4   8GB     DDR4  256GB      SSD  Apple M1 Integrated Graphics          13.3   \n",
      "\n",
      "   resolution_width  resolution_height             OS  warranty  \n",
      "0            1920.0             1080.0  Windows 11 OS         1  \n",
      "1            1920.0             1080.0  Windows 11 OS         1  \n",
      "2            1920.0             1080.0  Windows 11 OS         1  \n",
      "3            2240.0             1400.0  Windows 11 OS         1  \n",
      "4            2560.0             1600.0         Mac OS         1  \n",
      "<class 'pandas.core.frame.DataFrame'>\n",
      "RangeIndex: 893 entries, 0 to 892\n",
      "Data columns (total 17 columns):\n",
      " #   Column             Non-Null Count  Dtype  \n",
      "---  ------             --------------  -----  \n",
      " 0   Unnamed: 0.1       893 non-null    int64  \n",
      " 1   brand              893 non-null    object \n",
      " 2   name               893 non-null    object \n",
      " 3   price              893 non-null    int64  \n",
      " 4   spec_rating        893 non-null    float64\n",
      " 5   processor          893 non-null    object \n",
      " 6   CPU                893 non-null    object \n",
      " 7   Ram                893 non-null    object \n",
      " 8   Ram_type           893 non-null    object \n",
      " 9   ROM                893 non-null    object \n",
      " 10  ROM_type           893 non-null    object \n",
      " 11  GPU                893 non-null    object \n",
      " 12  display_size       893 non-null    float64\n",
      " 13  resolution_width   893 non-null    float64\n",
      " 14  resolution_height  893 non-null    float64\n",
      " 15  OS                 893 non-null    object \n",
      " 16  warranty           893 non-null    int64  \n",
      "dtypes: float64(4), int64(3), object(10)\n",
      "memory usage: 118.7+ KB\n",
      "None\n"
     ]
    }
   ],
   "source": [
    "df.drop(columns=['Unnamed: 0'], inplace=True)\n",
    "print(\"\\nDataFrame after dropping the column:\") \n",
    "print(df.head())\n",
    "print(df.info())"
   ]
  },
  {
   "cell_type": "code",
   "execution_count": 51,
   "id": "91ef532d-ee62-4d67-b842-c60752648aa9",
   "metadata": {},
   "outputs": [
    {
     "data": {
      "text/plain": [
       "(5, 6)"
      ]
     },
     "execution_count": 51,
     "metadata": {},
     "output_type": "execute_result"
    }
   ],
   "source": [
    "df.shape"
   ]
  },
  {
   "cell_type": "code",
   "execution_count": 57,
   "id": "ac3bcadd-426e-4b9c-95d6-997a1f07b4e0",
   "metadata": {},
   "outputs": [
    {
     "data": {
      "text/html": [
       "<div>\n",
       "<style scoped>\n",
       "    .dataframe tbody tr th:only-of-type {\n",
       "        vertical-align: middle;\n",
       "    }\n",
       "\n",
       "    .dataframe tbody tr th {\n",
       "        vertical-align: top;\n",
       "    }\n",
       "\n",
       "    .dataframe thead th {\n",
       "        text-align: right;\n",
       "    }\n",
       "</style>\n",
       "<table border=\"1\" class=\"dataframe\">\n",
       "  <thead>\n",
       "    <tr style=\"text-align: right;\">\n",
       "      <th></th>\n",
       "      <th>Age</th>\n",
       "      <th>Height</th>\n",
       "      <th>Weight</th>\n",
       "      <th>Gender</th>\n",
       "      <th>BMI</th>\n",
       "      <th>log_Height</th>\n",
       "    </tr>\n",
       "  </thead>\n",
       "  <tbody>\n",
       "    <tr>\n",
       "      <th>0</th>\n",
       "      <td>False</td>\n",
       "      <td>False</td>\n",
       "      <td>False</td>\n",
       "      <td>False</td>\n",
       "      <td>False</td>\n",
       "      <td>False</td>\n",
       "    </tr>\n",
       "    <tr>\n",
       "      <th>1</th>\n",
       "      <td>False</td>\n",
       "      <td>False</td>\n",
       "      <td>False</td>\n",
       "      <td>False</td>\n",
       "      <td>False</td>\n",
       "      <td>False</td>\n",
       "    </tr>\n",
       "    <tr>\n",
       "      <th>2</th>\n",
       "      <td>False</td>\n",
       "      <td>False</td>\n",
       "      <td>False</td>\n",
       "      <td>False</td>\n",
       "      <td>False</td>\n",
       "      <td>False</td>\n",
       "    </tr>\n",
       "    <tr>\n",
       "      <th>3</th>\n",
       "      <td>False</td>\n",
       "      <td>False</td>\n",
       "      <td>False</td>\n",
       "      <td>False</td>\n",
       "      <td>True</td>\n",
       "      <td>False</td>\n",
       "    </tr>\n",
       "    <tr>\n",
       "      <th>4</th>\n",
       "      <td>False</td>\n",
       "      <td>False</td>\n",
       "      <td>False</td>\n",
       "      <td>False</td>\n",
       "      <td>False</td>\n",
       "      <td>False</td>\n",
       "    </tr>\n",
       "  </tbody>\n",
       "</table>\n",
       "</div>"
      ],
      "text/plain": [
       "     Age  Height  Weight  Gender    BMI  log_Height\n",
       "0  False   False   False   False  False       False\n",
       "1  False   False   False   False  False       False\n",
       "2  False   False   False   False  False       False\n",
       "3  False   False   False   False   True       False\n",
       "4  False   False   False   False  False       False"
      ]
     },
     "execution_count": 57,
     "metadata": {},
     "output_type": "execute_result"
    }
   ],
   "source": [
    "df.isnull().head()"
   ]
  },
  {
   "cell_type": "code",
   "execution_count": null,
   "id": "005f7c3e-50f0-40ec-9b1b-81afb1d3c9d8",
   "metadata": {},
   "outputs": [],
   "source": []
  }
 ],
 "metadata": {
  "kernelspec": {
   "display_name": "Python 3 (ipykernel)",
   "language": "python",
   "name": "python3"
  },
  "language_info": {
   "codemirror_mode": {
    "name": "ipython",
    "version": 3
   },
   "file_extension": ".py",
   "mimetype": "text/x-python",
   "name": "python",
   "nbconvert_exporter": "python",
   "pygments_lexer": "ipython3",
   "version": "3.12.4"
  }
 },
 "nbformat": 4,
 "nbformat_minor": 5
}
